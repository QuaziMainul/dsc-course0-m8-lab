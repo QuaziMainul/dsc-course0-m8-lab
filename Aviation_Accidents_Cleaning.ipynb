{
 "cells": [
  {
   "cell_type": "markdown",
   "id": "d7485d62",
   "metadata": {},
   "source": [
    "# Aviation Accidents Analysis\n",
    "\n",
    "You are part of a consulting firm that is tasked to do an analysis of commercial and passenger jet airline safety. The client (an airline/airplane insurer) is interested in knowing what types of aircraft (makes/models) exhibit low rates of total destruction and low likelihood of fatal or serious passenger injuries in the event of an accident. They are also interested in any general variables/conditions that might be at play. Your analysis will be based off of aviation accident data accumulated from the years 1948-2023. \n",
    "\n",
    "Our client is only interested in airplane makes/models that are professional builds and could potentially still be active. Assume a max lifetime of 40 years for a make/model retirement and make sure to filter your data accordingly (i.e. from 1983 onwards). They would also like separate recommendations for small aircraft vs. larger passenger models. **In addition, make sure that claims that you make are statistically robust and that you have enough samples when making comparisons between groups.**\n",
    "\n",
    "\n",
    "In this summative assessment you will demonstrate your ability to:\n",
    "- **Use Pandas to load, inspect, and clean the dataset appropriately.**\n",
    "- **Transform relevant columns to create measures that address the problem at hand.**\n",
    "- conduct EDA: visualization and statistical measures to systematically understand the structure of the data\n",
    "- recommend a set of airplanes and makes conforming to the client's request and identify at least *two* factors contributing to airplane safety. You must provide supporting evidence (visuals, summary statistics, tables) for each claim you make."
   ]
  },
  {
   "cell_type": "markdown",
   "id": "73e582c5",
   "metadata": {},
   "source": [
    "### Make relevant library imports"
   ]
  },
  {
   "cell_type": "code",
   "execution_count": 119,
   "id": "a72188a8",
   "metadata": {},
   "outputs": [],
   "source": [
    "import pandas as pd\n",
    "import numpy as np\n",
    "import matplotlib.pyplot as plt\n",
    "import seaborn as sns"
   ]
  },
  {
   "cell_type": "markdown",
   "id": "5b1fc321",
   "metadata": {},
   "source": [
    "## Data Loading and Inspection"
   ]
  },
  {
   "cell_type": "markdown",
   "id": "57becc28",
   "metadata": {},
   "source": [
    "### Load in data from the relevant directory and inspect the dataframe.\n",
    "- inspect NaNs, datatypes, and summary statistics"
   ]
  },
  {
   "cell_type": "code",
   "execution_count": 120,
   "id": "477c06e9-df35-46a6-9244-64017386cd95",
   "metadata": {},
   "outputs": [
    {
     "name": "stdout",
     "output_type": "stream",
     "text": [
      "Dataset Shape (Rows, Columns): (88889, 31)\n",
      "/nFirst 5 rows of the dataset:\n",
      "         Event.Id Investigation.Type Accident.Number  Event.Date  \\\n",
      "0  20001218X45444           Accident      SEA87LA080  1948-10-24   \n",
      "1  20001218X45447           Accident      LAX94LA336  1962-07-19   \n",
      "2  20061025X01555           Accident      NYC07LA005  1974-08-30   \n",
      "3  20001218X45448           Accident      LAX96LA321  1977-06-19   \n",
      "4  20041105X01764           Accident      CHI79FA064  1979-08-02   \n",
      "\n",
      "          Location        Country   Latitude   Longitude Airport.Code  \\\n",
      "0  MOOSE CREEK, ID  United States        NaN         NaN          NaN   \n",
      "1   BRIDGEPORT, CA  United States        NaN         NaN          NaN   \n",
      "2    Saltville, VA  United States  36.922223  -81.878056          NaN   \n",
      "3       EUREKA, CA  United States        NaN         NaN          NaN   \n",
      "4       Canton, OH  United States        NaN         NaN          NaN   \n",
      "\n",
      "  Airport.Name  ... Purpose.of.flight Air.carrier Total.Fatal.Injuries  \\\n",
      "0          NaN  ...          Personal         NaN                  2.0   \n",
      "1          NaN  ...          Personal         NaN                  4.0   \n",
      "2          NaN  ...          Personal         NaN                  3.0   \n",
      "3          NaN  ...          Personal         NaN                  2.0   \n",
      "4          NaN  ...          Personal         NaN                  1.0   \n",
      "\n",
      "  Total.Serious.Injuries Total.Minor.Injuries Total.Uninjured  \\\n",
      "0                    0.0                  0.0             0.0   \n",
      "1                    0.0                  0.0             0.0   \n",
      "2                    NaN                  NaN             NaN   \n",
      "3                    0.0                  0.0             0.0   \n",
      "4                    2.0                  NaN             0.0   \n",
      "\n",
      "  Weather.Condition  Broad.phase.of.flight   Report.Status Publication.Date  \n",
      "0               UNK                 Cruise  Probable Cause              NaN  \n",
      "1               UNK                Unknown  Probable Cause       19-09-1996  \n",
      "2               IMC                 Cruise  Probable Cause       26-02-2007  \n",
      "3               IMC                 Cruise  Probable Cause       12-09-2000  \n",
      "4               VMC               Approach  Probable Cause       16-04-1980  \n",
      "\n",
      "[5 rows x 31 columns]\n"
     ]
    }
   ],
   "source": [
    "#Load in data\n",
    "aviation_df = pd.read_csv(\"data/AviationData.csv\", encoding='ISO-8859-1', low_memory=False)\n",
    "\n",
    "# Shape of the dataset\n",
    "print(\"Dataset Shape (Rows, Columns):\", aviation_df.shape)\n",
    "\n",
    "# Preview the first few rows\n",
    "print(\"/nFirst 5 rows of the dataset:\")\n",
    "print(aviation_df.head())"
   ]
  },
  {
   "cell_type": "code",
   "execution_count": 121,
   "id": "f9d9ecc2-ee03-4b44-b346-98a198449ff9",
   "metadata": {},
   "outputs": [
    {
     "name": "stdout",
     "output_type": "stream",
     "text": [
      "\n",
      "Data Types:\n",
      "Event.Id                   object\n",
      "Investigation.Type         object\n",
      "Accident.Number            object\n",
      "Event.Date                 object\n",
      "Location                   object\n",
      "Country                    object\n",
      "Latitude                   object\n",
      "Longitude                  object\n",
      "Airport.Code               object\n",
      "Airport.Name               object\n",
      "Injury.Severity            object\n",
      "Aircraft.damage            object\n",
      "Aircraft.Category          object\n",
      "Registration.Number        object\n",
      "Make                       object\n",
      "Model                      object\n",
      "Amateur.Built              object\n",
      "Number.of.Engines         float64\n",
      "Engine.Type                object\n",
      "FAR.Description            object\n",
      "Schedule                   object\n",
      "Purpose.of.flight          object\n",
      "Air.carrier                object\n",
      "Total.Fatal.Injuries      float64\n",
      "Total.Serious.Injuries    float64\n",
      "Total.Minor.Injuries      float64\n",
      "Total.Uninjured           float64\n",
      "Weather.Condition          object\n",
      "Broad.phase.of.flight      object\n",
      "Report.Status              object\n",
      "Publication.Date           object\n",
      "dtype: object\n"
     ]
    }
   ],
   "source": [
    "# Check data types\n",
    "print(\"\\nData Types:\")\n",
    "print(aviation_df.dtypes)"
   ]
  },
  {
   "cell_type": "code",
   "execution_count": 122,
   "id": "85235fa7",
   "metadata": {},
   "outputs": [
    {
     "name": "stdout",
     "output_type": "stream",
     "text": [
      "\n",
      "Top 20 Columns with Most Missing Values:\n",
      "Schedule                  76307\n",
      "Air.carrier               72241\n",
      "FAR.Description           56866\n",
      "Aircraft.Category         56602\n",
      "Longitude                 54516\n",
      "Latitude                  54507\n",
      "Airport.Code              38757\n",
      "Airport.Name              36185\n",
      "Broad.phase.of.flight     27165\n",
      "Publication.Date          13771\n",
      "Total.Serious.Injuries    12510\n",
      "Total.Minor.Injuries      11933\n",
      "Total.Fatal.Injuries      11401\n",
      "Engine.Type                7096\n",
      "Report.Status              6384\n",
      "Purpose.of.flight          6192\n",
      "Number.of.Engines          6084\n",
      "Total.Uninjured            5912\n",
      "Weather.Condition          4492\n",
      "Aircraft.damage            3194\n",
      "dtype: int64\n"
     ]
    }
   ],
   "source": [
    "# Check for missing values (top 20)\n",
    "print(\"\\nTop 20 Columns with Most Missing Values:\")\n",
    "print(aviation_df.isnull().sum().sort_values(ascending=False).head(20))"
   ]
  },
  {
   "cell_type": "code",
   "execution_count": 123,
   "id": "572589b0-780d-44d3-a398-a4d586d4b917",
   "metadata": {},
   "outputs": [
    {
     "name": "stdout",
     "output_type": "stream",
     "text": [
      "\n",
      "Summary Statistics:\n",
      "              Event.Id Investigation.Type Accident.Number  Event.Date  \\\n",
      "count            88889              88889           88889       88889   \n",
      "unique           87951                  2           88863       14782   \n",
      "top     20001212X19172           Accident      CEN22LA149  1984-06-30   \n",
      "freq                 3              85015               2          25   \n",
      "mean               NaN                NaN             NaN         NaN   \n",
      "std                NaN                NaN             NaN         NaN   \n",
      "min                NaN                NaN             NaN         NaN   \n",
      "25%                NaN                NaN             NaN         NaN   \n",
      "50%                NaN                NaN             NaN         NaN   \n",
      "75%                NaN                NaN             NaN         NaN   \n",
      "max                NaN                NaN             NaN         NaN   \n",
      "\n",
      "             Location        Country Latitude Longitude Airport.Code  \\\n",
      "count           88837          88663    34382     34373        50132   \n",
      "unique          27758            219    25589     27154        10374   \n",
      "top     ANCHORAGE, AK  United States  332739N  0112457W         NONE   \n",
      "freq              434          82248       19        24         1488   \n",
      "mean              NaN            NaN      NaN       NaN          NaN   \n",
      "std               NaN            NaN      NaN       NaN          NaN   \n",
      "min               NaN            NaN      NaN       NaN          NaN   \n",
      "25%               NaN            NaN      NaN       NaN          NaN   \n",
      "50%               NaN            NaN      NaN       NaN          NaN   \n",
      "75%               NaN            NaN      NaN       NaN          NaN   \n",
      "max               NaN            NaN      NaN       NaN          NaN   \n",
      "\n",
      "       Airport.Name  ... Purpose.of.flight Air.carrier Total.Fatal.Injuries  \\\n",
      "count         52704  ...             82697       16648         77488.000000   \n",
      "unique        24870  ...                26       13590                  NaN   \n",
      "top         Private  ...          Personal       Pilot                  NaN   \n",
      "freq            240  ...             49448         258                  NaN   \n",
      "mean            NaN  ...               NaN         NaN             0.647855   \n",
      "std             NaN  ...               NaN         NaN             5.485960   \n",
      "min             NaN  ...               NaN         NaN             0.000000   \n",
      "25%             NaN  ...               NaN         NaN             0.000000   \n",
      "50%             NaN  ...               NaN         NaN             0.000000   \n",
      "75%             NaN  ...               NaN         NaN             0.000000   \n",
      "max             NaN  ...               NaN         NaN           349.000000   \n",
      "\n",
      "       Total.Serious.Injuries Total.Minor.Injuries Total.Uninjured  \\\n",
      "count            76379.000000         76956.000000    82977.000000   \n",
      "unique                    NaN                  NaN             NaN   \n",
      "top                       NaN                  NaN             NaN   \n",
      "freq                      NaN                  NaN             NaN   \n",
      "mean                 0.279881             0.357061        5.325440   \n",
      "std                  1.544084             2.235625       27.913634   \n",
      "min                  0.000000             0.000000        0.000000   \n",
      "25%                  0.000000             0.000000        0.000000   \n",
      "50%                  0.000000             0.000000        1.000000   \n",
      "75%                  0.000000             0.000000        2.000000   \n",
      "max                161.000000           380.000000      699.000000   \n",
      "\n",
      "       Weather.Condition  Broad.phase.of.flight   Report.Status  \\\n",
      "count              84397                  61724           82505   \n",
      "unique                 4                     12           17074   \n",
      "top                  VMC                Landing  Probable Cause   \n",
      "freq               77303                  15428           61754   \n",
      "mean                 NaN                    NaN             NaN   \n",
      "std                  NaN                    NaN             NaN   \n",
      "min                  NaN                    NaN             NaN   \n",
      "25%                  NaN                    NaN             NaN   \n",
      "50%                  NaN                    NaN             NaN   \n",
      "75%                  NaN                    NaN             NaN   \n",
      "max                  NaN                    NaN             NaN   \n",
      "\n",
      "       Publication.Date  \n",
      "count             75118  \n",
      "unique             2924  \n",
      "top          25-09-2020  \n",
      "freq              17019  \n",
      "mean                NaN  \n",
      "std                 NaN  \n",
      "min                 NaN  \n",
      "25%                 NaN  \n",
      "50%                 NaN  \n",
      "75%                 NaN  \n",
      "max                 NaN  \n",
      "\n",
      "[11 rows x 31 columns]\n"
     ]
    }
   ],
   "source": [
    "# Summary statistics for numeric and object columns\n",
    "print(\"\\nSummary Statistics:\")\n",
    "print(aviation_df.describe(include='all'))"
   ]
  },
  {
   "cell_type": "markdown",
   "id": "2e9b8cc7",
   "metadata": {},
   "source": [
    "## Data Cleaning"
   ]
  },
  {
   "cell_type": "markdown",
   "id": "c23efd78",
   "metadata": {},
   "source": [
    "### Filtering aircrafts and events"
   ]
  },
  {
   "cell_type": "markdown",
   "id": "9c399343",
   "metadata": {},
   "source": [
    "We want to filter the dataset to include aircraft that the client is interested in an analysis of:\n",
    "- inspect relevant columns\n",
    "- figure out any reasonable imputations\n",
    "- filter the dataset"
   ]
  },
  {
   "cell_type": "code",
   "execution_count": 124,
   "id": "af95cb60-801f-4995-a2b6-dc1a2859713f",
   "metadata": {},
   "outputs": [
    {
     "name": "stdout",
     "output_type": "stream",
     "text": [
      "Missing or malformed Event.Date values: 0\n",
      "\n",
      "Unique Makes (sample):\n",
      "['Piccard' 'Cessna' 'Piper' 'Balloon Works' 'North American' 'Beech'\n",
      " 'Swearingen' 'Canadair' 'Javelin Aircraft' 'Douglas']\n",
      "\n",
      "Unique Models (sample):\n",
      "['AX-6' '182P' '182RG' 'PA-28R-200' '140' 'FIREFLY 7B' '340A' 'T-6G'\n",
      " 'PA-24-250' 'PA-32-301R']\n"
     ]
    }
   ],
   "source": [
    "#Data Cleaning – Filtering Aircrafts and Events\n",
    "\n",
    "# Convert Event.Date to datetime\n",
    "aviation_df[\"Event.Date\"] = pd.to_datetime(aviation_df[\"Event.Date\"], errors='coerce')\n",
    "\n",
    "# Check how many invalid dates exist\n",
    "print(\"Missing or malformed Event.Date values:\", aviation_df[\"Event.Date\"].isnull().sum())\n",
    "\n",
    "# Drop rows where Event.Date is missing\n",
    "aviation_df = aviation_df[aviation_df[\"Event.Date\"].notnull()]\n",
    "\n",
    "# Filter for events from 1983 onwards\n",
    "aviation_df = aviation_df[aviation_df[\"Event.Date\"].dt.year >= 1983]\n",
    "\n",
    "# Check relevant columns\n",
    "print(\"\\nUnique Makes (sample):\")\n",
    "print(aviation_df[\"Make\"].dropna().unique()[:10])\n",
    "\n",
    "print(\"\\nUnique Models (sample):\")\n",
    "print(aviation_df[\"Model\"].dropna().unique()[:10])"
   ]
  },
  {
   "cell_type": "code",
   "execution_count": 125,
   "id": "5a2b7eab",
   "metadata": {},
   "outputs": [
    {
     "name": "stdout",
     "output_type": "stream",
     "text": [
      "\n",
      "Shape after filtering: (85197, 31)\n",
      "\n",
      "Remaining missing values (top 15):\n",
      "Schedule                  73202\n",
      "Air.carrier               68823\n",
      "FAR.Description           56805\n",
      "Aircraft.Category         56496\n",
      "Longitude                 50862\n",
      "Latitude                  50853\n",
      "Airport.Code              36787\n",
      "Airport.Name              34714\n",
      "Broad.phase.of.flight     27092\n",
      "Publication.Date          13763\n",
      "Total.Serious.Injuries    12461\n",
      "Total.Minor.Injuries      11886\n",
      "Total.Fatal.Injuries      11361\n",
      "Engine.Type                7024\n",
      "Report.Status              6338\n",
      "dtype: int64\n"
     ]
    }
   ],
   "source": [
    "# Drop rows where Make or Model is missing (client requires real aircraft)\n",
    "aviation_df = aviation_df[aviation_df[\"Make\"].notnull() & aviation_df[\"Model\"].notnull()]\n",
    "\n",
    "# Report shape and missingness after filtering\n",
    "print(\"\\nShape after filtering:\", aviation_df.shape)\n",
    "print(\"\\nRemaining missing values (top 15):\")\n",
    "print(aviation_df.isnull().sum().sort_values(ascending=False).head(15))"
   ]
  },
  {
   "cell_type": "markdown",
   "id": "36d26002",
   "metadata": {},
   "source": [
    "### Cleaning and constructing Key Measurables\n",
    "\n",
    "Injuries and robustness to destruction are a key interest point for the client. Clean and impute relevant columns and then create derived fields that best quantifies what the client wishes to track. **Use commenting or markdown to explain any cleaning assumptions as well as any derived columns you create.**"
   ]
  },
  {
   "cell_type": "markdown",
   "id": "070b08f8",
   "metadata": {},
   "source": [
    "**Construct metric for fatal/serious injuries**\n",
    "\n",
    "*Hint:* Estimate the total number of passengers on each flight. The likelihood of serious / fatal injury can be estimated as a fraction from this."
   ]
  },
  {
   "cell_type": "code",
   "execution_count": 126,
   "id": "627196dd-4e00-44ef-94d3-f5d4183cd066",
   "metadata": {},
   "outputs": [],
   "source": [
    "# Convert injury columns to numeric and fill NaNs with 0\n",
    "injury_cols = [\n",
    "    \"Total.Fatal.Injuries\", \n",
    "    \"Total.Serious.Injuries\", \n",
    "    \"Total.Minor.Injuries\", \n",
    "    \"Total.Uninjured\"\n",
    "]\n",
    "\n",
    "for col in injury_cols:\n",
    "    aviation_df[col] = pd.to_numeric(aviation_df[col], errors='coerce').fillna(0)\n",
    "\n",
    "# Create total number of people onboard\n",
    "aviation_df[\"Total_Occupants\"] = (\n",
    "    aviation_df[\"Total.Fatal.Injuries\"] + \n",
    "    aviation_df[\"Total.Serious.Injuries\"] + \n",
    "    aviation_df[\"Total.Minor.Injuries\"] + \n",
    "    aviation_df[\"Total.Uninjured\"]\n",
    ")\n",
    "\n",
    "# Remove rows where total occupants is 0 (unrealistic for manned aircraft)\n",
    "aviation_df = aviation_df[aviation_df[\"Total_Occupants\"] > 0]"
   ]
  },
  {
   "cell_type": "code",
   "execution_count": 127,
   "id": "ef28a6d4",
   "metadata": {},
   "outputs": [
    {
     "name": "stdout",
     "output_type": "stream",
     "text": [
      "\n",
      "Sample of derived injury metrics:\n",
      "         Make       Model  Total.Fatal.Injuries  Total.Serious.Injuries  \\\n",
      "3600  Piccard        AX-6                   0.0                     1.0   \n",
      "3601   Cessna        182P                   0.0                     0.0   \n",
      "3602   Cessna       182RG                   0.0                     0.0   \n",
      "3603   Cessna        182P                   0.0                     0.0   \n",
      "3604    Piper  PA-28R-200                   0.0                     0.0   \n",
      "\n",
      "      Total_Occupants  SeriousOrFatal_Rate  \n",
      "3600              2.0                  0.5  \n",
      "3601              4.0                  0.0  \n",
      "3602              2.0                  0.0  \n",
      "3603              1.0                  0.0  \n",
      "3604              2.0                  0.0  \n"
     ]
    }
   ],
   "source": [
    "# Create injury severity metric: rate of fatal or serious injuries per occupant\n",
    "aviation_df[\"SeriousOrFatal_Rate\"] = (\n",
    "    (aviation_df[\"Total.Fatal.Injuries\"] + aviation_df[\"Total.Serious.Injuries\"]) \n",
    "    / aviation_df[\"Total_Occupants\"]\n",
    ")\n",
    "\n",
    "# Preview the new columns\n",
    "print(\"\\nSample of derived injury metrics:\")\n",
    "print(aviation_df[[\n",
    "    \"Make\", \"Model\", \n",
    "    \"Total.Fatal.Injuries\", \"Total.Serious.Injuries\", \n",
    "    \"Total_Occupants\", \"SeriousOrFatal_Rate\"\n",
    "]].head())"
   ]
  },
  {
   "cell_type": "markdown",
   "id": "6c89136b",
   "metadata": {},
   "source": [
    "**Aircraft.Damage**\n",
    "- identify and execute any cleaning tasks\n",
    "- construct a derived column tracking whether an aircraft was destroyed or not."
   ]
  },
  {
   "cell_type": "code",
   "execution_count": 128,
   "id": "9bced11f-5f55-44f2-93e6-6731e0f9364f",
   "metadata": {},
   "outputs": [],
   "source": [
    "# Standardize Aircraft.Damage by converting to uppercase\n",
    "aviation_df[\"Aircraft.damage\"] = aviation_df[\"Aircraft.damage\"].str.upper()"
   ]
  },
  {
   "cell_type": "code",
   "execution_count": 129,
   "id": "152983d2-3f5b-4e40-98f1-9b1ef5a9ec64",
   "metadata": {},
   "outputs": [
    {
     "name": "stdout",
     "output_type": "stream",
     "text": [
      "Unique values in Aircraft.damage:\n",
      "Aircraft.damage\n",
      "SUBSTANTIAL    61473\n",
      "DESTROYED      17460\n",
      "NaN             2527\n",
      "MINOR           2366\n",
      "UNKNOWN           92\n",
      "Name: count, dtype: int64\n"
     ]
    }
   ],
   "source": [
    "# Inspect unique values to understand what's present\n",
    "print(\"Unique values in Aircraft.damage:\")\n",
    "print(aviation_df[\"Aircraft.damage\"].value_counts(dropna=False))"
   ]
  },
  {
   "cell_type": "code",
   "execution_count": 130,
   "id": "650eb206-ba88-45b6-b0c8-b78bca9e37c9",
   "metadata": {},
   "outputs": [],
   "source": [
    "# Create a binary flag: 1 if Destroyed, 0 otherwise\n",
    "aviation_df[\"Aircraft_Destroyed\"] = aviation_df[\"Aircraft.damage\"].apply(\n",
    "    lambda x: 1 if x == \"DESTROYED\" else 0\n",
    ")"
   ]
  },
  {
   "cell_type": "code",
   "execution_count": 131,
   "id": "a70eb7b5-cc71-44de-8d93-62ea56755de2",
   "metadata": {},
   "outputs": [
    {
     "name": "stdout",
     "output_type": "stream",
     "text": [
      "\n",
      "Distribution of Aircraft_Destroyed:\n",
      "Aircraft_Destroyed\n",
      "0    66458\n",
      "1    17460\n",
      "Name: count, dtype: int64\n"
     ]
    }
   ],
   "source": [
    "# Show distribution\n",
    "print(\"\\nDistribution of Aircraft_Destroyed:\")\n",
    "print(aviation_df[\"Aircraft_Destroyed\"].value_counts())"
   ]
  },
  {
   "cell_type": "code",
   "execution_count": 132,
   "id": "df21464d-f6fe-443f-a88f-dfeeb182a1d3",
   "metadata": {},
   "outputs": [
    {
     "name": "stdout",
     "output_type": "stream",
     "text": [
      "\n",
      "Sample rows with destruction indicator:\n",
      "         Make       Model Aircraft.damage  Aircraft_Destroyed\n",
      "3600  Piccard        AX-6             NaN                   0\n",
      "3601   Cessna        182P     SUBSTANTIAL                   0\n",
      "3602   Cessna       182RG     SUBSTANTIAL                   0\n",
      "3603   Cessna        182P     SUBSTANTIAL                   0\n",
      "3604    Piper  PA-28R-200     SUBSTANTIAL                   0\n"
     ]
    }
   ],
   "source": [
    "# Preview\n",
    "print(\"\\nSample rows with destruction indicator:\")\n",
    "print(aviation_df[[\"Make\", \"Model\", \"Aircraft.damage\", \"Aircraft_Destroyed\"]].head())"
   ]
  },
  {
   "cell_type": "markdown",
   "id": "e9d8af9b",
   "metadata": {},
   "source": [
    "### Investigate the *Make* column\n",
    "- Identify cleaning tasks here\n",
    "- List cleaning tasks clearly in markdown\n",
    "- Execute the cleaning tasks\n",
    "- For your analysis, keep Makes with a reasonable number (you can put the threshold at 50 though lower could work as well)"
   ]
  },
  {
   "cell_type": "code",
   "execution_count": 133,
   "id": "cf9005cf",
   "metadata": {},
   "outputs": [
    {
     "name": "stdout",
     "output_type": "stream",
     "text": [
      "Make value counts (Top 15):\n",
      "Make\n",
      "CESSNA               25753\n",
      "PIPER                14106\n",
      "BEECH                 5088\n",
      "BELL                  2574\n",
      "BOEING                2098\n",
      "ROBINSON              1606\n",
      "MOONEY                1275\n",
      "GRUMMAN               1068\n",
      "BELLANCA               982\n",
      "HUGHES                 878\n",
      "SCHWEIZER              753\n",
      "AIR TRACTOR            668\n",
      "AERONCA                606\n",
      "MAULE                  571\n",
      "MCDONNELL-DOUGLAS      562\n",
      "Name: count, dtype: int64\n",
      "\n",
      "Number of makes retained: 94\n",
      "Sample of retained makes: ['CESSNA', 'PIPER', 'BEECH', 'BELL', 'BOEING', 'ROBINSON', 'MOONEY', 'GRUMMAN', 'BELLANCA', 'HUGHES']\n"
     ]
    }
   ],
   "source": [
    "# Standardize casing and trim spaces\n",
    "aviation_df[\"Make\"] = aviation_df[\"Make\"].str.upper().str.strip()\n",
    "\n",
    "# Replace common variants\n",
    "aviation_df[\"Make\"] = aviation_df[\"Make\"].replace({\n",
    "    \"BOEING COMPANY\": \"BOEING\",\n",
    "    \"BOEING COMMERCIAL AIRPLANE CO.\": \"BOEING\",\n",
    "    \"MCDONNELL DOUGLAS\": \"MCDONNELL-DOUGLAS\",\n",
    "    \"MCDONNELL DOUGLAS CORPORATION\": \"MCDONNELL-DOUGLAS\",\n",
    "    \"CESSNA AIRCRAFT\": \"CESSNA\",\n",
    "    \"CESSNA AIRCRAFT CO\": \"CESSNA\",\n",
    "    \"CESSNA AIRCRAFT COMPANY\": \"CESSNA\",\n",
    "    \"PIPER AIRCRAFT\": \"PIPER\",\n",
    "    \"PIPER AIRCRAFT INC.\": \"PIPER\",\n",
    "    \"AIRBUS INDUSTRIE\": \"AIRBUS\",\n",
    "    \"AIRBUS INDUSTRIES\": \"AIRBUS\",\n",
    "    \"LOCKHEED AIRCRAFT CORPORATION\": \"LOCKHEED\",\n",
    "    \"LOCKHEED MARTIN\": \"LOCKHEED\",\n",
    "    \"BEECH AIRCRAFT\": \"BEECH\",\n",
    "    \"BEECH AIRCRAFT CORPORATION\": \"BEECH\",\n",
    "    \"ROBINSON HELICOPTER\": \"ROBINSON\",\n",
    "    \"ROBINSON HELICOPTER CO.\": \"ROBINSON\",\n",
    "    \"ROBINSON HELICOPTER COMPANY\": \"ROBINSON\"\n",
    "})\n",
    "\n",
    "# Check value counts\n",
    "make_counts = aviation_df[\"Make\"].value_counts()\n",
    "print(\"Make value counts (Top 15):\")\n",
    "print(make_counts.head(15))\n",
    "\n",
    "# Apply threshold: keep only makes with >= 50 incidents\n",
    "valid_makes = make_counts[make_counts >= 50].index\n",
    "aviation_df = aviation_df[aviation_df[\"Make\"].isin(valid_makes)]\n",
    "\n",
    "# Final unique makes\n",
    "print(\"\\nNumber of makes retained:\", len(valid_makes))\n",
    "print(\"Sample of retained makes:\", list(valid_makes[:10]))"
   ]
  },
  {
   "cell_type": "markdown",
   "id": "6ed9f3c2",
   "metadata": {},
   "source": [
    "### Inspect Model column\n",
    "- Get rid of any NaNs.\n",
    "- Inspect the column and counts for each model/make. Are model labels unique to each make?\n",
    "- If not, create a derived column that is a unique identifier for a given plane type."
   ]
  },
  {
   "cell_type": "code",
   "execution_count": 134,
   "id": "ebe20b3d-866c-449c-acfa-f923e091ec7c",
   "metadata": {},
   "outputs": [
    {
     "name": "stdout",
     "output_type": "stream",
     "text": [
      "Number of unique Model values: 6146\n",
      "Number of unique (Make, Model) combinations: 6732\n"
     ]
    }
   ],
   "source": [
    "# Drop rows where Model is missing\n",
    "aviation_df = aviation_df[aviation_df[\"Model\"].notnull()]\n",
    "\n",
    "# Check the number of unique models\n",
    "num_unique_models = aviation_df[\"Model\"].nunique()\n",
    "print(f\"Number of unique Model values: {num_unique_models}\")\n",
    "\n",
    "# Check the number of unique (Make, Model) combinations\n",
    "num_unique_make_models = aviation_df[[\"Make\", \"Model\"]].drop_duplicates().shape[0]\n",
    "print(f\"Number of unique (Make, Model) combinations: {num_unique_make_models}\")"
   ]
  },
  {
   "cell_type": "code",
   "execution_count": 135,
   "id": "285f547d-21ed-4d37-8bd5-e426df4a4df2",
   "metadata": {},
   "outputs": [
    {
     "name": "stdout",
     "output_type": "stream",
     "text": [
      "\n",
      "Top Models used by multiple Makes:\n",
      "Model\n",
      "500       7\n",
      "G-164A    7\n",
      "G-164B    6\n",
      "G-164C    5\n",
      "AA-5B     5\n",
      "AA-5      5\n",
      "G-164     5\n",
      "8KCAB     4\n",
      "690A      4\n",
      "690B      4\n",
      "Name: Make, dtype: int64\n"
     ]
    }
   ],
   "source": [
    "# Investigate whether models are shared across multiple makes\n",
    "model_to_make_counts = aviation_df.groupby(\"Model\")[\"Make\"].nunique().sort_values(ascending=False)\n",
    "print(\"\\nTop Models used by multiple Makes:\")\n",
    "print(model_to_make_counts[model_to_make_counts > 1].head(10))"
   ]
  },
  {
   "cell_type": "code",
   "execution_count": 136,
   "id": "05f20594",
   "metadata": {},
   "outputs": [
    {
     "name": "stdout",
     "output_type": "stream",
     "text": [
      "\n",
      "Sample Aircraft_Type values:\n",
      "        Make       Model     Aircraft_Type\n",
      "3601  CESSNA        182P       CESSNA 182P\n",
      "3602  CESSNA       182RG      CESSNA 182RG\n",
      "3603  CESSNA        182P       CESSNA 182P\n",
      "3604   PIPER  PA-28R-200  PIPER PA-28R-200\n",
      "3605  CESSNA         140        CESSNA 140\n"
     ]
    }
   ],
   "source": [
    "# Create a unique aircraft identifier column\n",
    "aviation_df[\"Aircraft_Type\"] = aviation_df[\"Make\"] + \" \" + aviation_df[\"Model\"]\n",
    "\n",
    "# Preview the result\n",
    "print(\"\\nSample Aircraft_Type values:\")\n",
    "print(aviation_df[[\"Make\", \"Model\", \"Aircraft_Type\"]].head())"
   ]
  },
  {
   "cell_type": "markdown",
   "id": "9a173ebd",
   "metadata": {},
   "source": [
    "### Cleaning other columns\n",
    "- there are other columns containing data that might be related to the outcome of an accident. We list a few here:\n",
    "- Engine.Type\n",
    "- Weather.Condition\n",
    "- Number.of.Engines\n",
    "- Purpose.of.flight\n",
    "- Broad.phase.of.flight\n",
    "\n",
    "Inspect and identify potential cleaning tasks in each of the above columns. Execute those cleaning tasks. \n",
    "\n",
    "**Note**: You do not necessarily need to impute or drop NaNs here."
   ]
  },
  {
   "cell_type": "code",
   "execution_count": 137,
   "id": "01df492e",
   "metadata": {},
   "outputs": [
    {
     "name": "stdout",
     "output_type": "stream",
     "text": [
      "\n",
      "Engine.Type: ['RECIPROCATING' 'UNKNOWN' 'TURBO PROP' 'TURBO FAN' 'TURBO SHAFT' nan\n",
      " 'TURBO JET' 'GEARED TURBOFAN' 'LR' 'NONE']\n",
      "\n",
      "Weather.Condition: ['VMC' 'IMC' 'UNKNOWN' nan]\n",
      "\n",
      "Purpose.of.flight (sample): Purpose.of.flight\n",
      "Personal              37457\n",
      "Instructional          9439\n",
      "Unknown                5475\n",
      "Aerial Application     4144\n",
      "Business               3449\n",
      "Name: count, dtype: int64\n",
      "\n",
      "Broad.phase.of.flight (sample): Broad.phase.of.flight\n",
      "Landing        13104\n",
      "Takeoff         9869\n",
      "Cruise          8463\n",
      "Maneuvering     6347\n",
      "Approach        5255\n",
      "Name: count, dtype: int64\n"
     ]
    }
   ],
   "source": [
    "# Clean Engine.Type\n",
    "aviation_df[\"Engine.Type\"] = aviation_df[\"Engine.Type\"].str.upper().str.strip()\n",
    "aviation_df[\"Engine.Type\"] = aviation_df[\"Engine.Type\"].replace({\n",
    "    \"NONE\": \"NONE\",\n",
    "    \"UNK\": \"UNKNOWN\"\n",
    "})\n",
    "\n",
    "# Clean Weather.Condition\n",
    "aviation_df[\"Weather.Condition\"] = aviation_df[\"Weather.Condition\"].str.upper().str.strip()\n",
    "aviation_df[\"Weather.Condition\"] = aviation_df[\"Weather.Condition\"].replace({\n",
    "    \"UNK\": \"UNKNOWN\"\n",
    "})\n",
    "\n",
    "# Clean Purpose.of.flight\n",
    "aviation_df[\"Purpose.of.flight\"] = aviation_df[\"Purpose.of.flight\"].str.title().str.strip()\n",
    "aviation_df[\"Purpose.of.flight\"] = aviation_df[\"Purpose.of.flight\"].replace({\n",
    "    \"Air Race/Show\": \"Air Race/Show\",\n",
    "    \"Air Race Show\": \"Air Race/Show\",\n",
    "    \"Pubs\": \"Other/Unknown\",\n",
    "    \"Asho\": \"Other/Unknown\",\n",
    "    \"Publ\": \"Other/Unknown\"\n",
    "})\n",
    "\n",
    "# Clean Broad.phase.of.flight\n",
    "aviation_df[\"Broad.phase.of.flight\"] = aviation_df[\"Broad.phase.of.flight\"].str.title().str.strip()\n",
    "\n",
    "# Preview cleaned categories\n",
    "print(\"\\nEngine.Type:\", aviation_df[\"Engine.Type\"].unique())\n",
    "print(\"\\nWeather.Condition:\", aviation_df[\"Weather.Condition\"].unique())\n",
    "print(\"\\nPurpose.of.flight (sample):\", aviation_df[\"Purpose.of.flight\"].value_counts().head())\n",
    "print(\"\\nBroad.phase.of.flight (sample):\", aviation_df[\"Broad.phase.of.flight\"].value_counts().head())  "
   ]
  },
  {
   "cell_type": "markdown",
   "id": "12ad63d9",
   "metadata": {},
   "source": [
    "### Column Removal\n",
    "- inspect the dataframe and drop any columns that have too many NaNs"
   ]
  },
  {
   "cell_type": "code",
   "execution_count": 138,
   "id": "f661bb21",
   "metadata": {},
   "outputs": [
    {
     "name": "stdout",
     "output_type": "stream",
     "text": [
      "Dropped columns due to more than 50% missing values:\n",
      "['Latitude', 'Longitude', 'Aircraft.Category', 'FAR.Description', 'Schedule', 'Air.carrier']\n",
      "\n",
      "Remaining columns in the cleaned DataFrame:\n",
      "['Event.Id', 'Investigation.Type', 'Accident.Number', 'Event.Date', 'Location', 'Country', 'Airport.Code', 'Airport.Name', 'Injury.Severity', 'Aircraft.damage', 'Registration.Number', 'Make', 'Model', 'Amateur.Built', 'Number.of.Engines', 'Engine.Type', 'Purpose.of.flight', 'Total.Fatal.Injuries', 'Total.Serious.Injuries', 'Total.Minor.Injuries', 'Total.Uninjured', 'Weather.Condition', 'Broad.phase.of.flight', 'Report.Status', 'Publication.Date', 'Total_Occupants', 'SeriousOrFatal_Rate', 'Aircraft_Destroyed', 'Aircraft_Type']\n"
     ]
    }
   ],
   "source": [
    "# Define threshold: drop columns where more than 50% of rows are missing\n",
    "threshold = 0.5 * len(aviation_df)\n",
    "\n",
    "# Count missing values in each column\n",
    "missing_counts = aviation_df.isnull().sum()\n",
    "\n",
    "# Identify columns that exceed the threshold\n",
    "cols_to_drop = missing_counts[missing_counts > threshold].index.tolist()\n",
    "\n",
    "# Drop these columns from the DataFrame\n",
    "aviation_df.drop(columns=cols_to_drop, inplace=True)\n",
    "\n",
    "# Output results\n",
    "print(\"Dropped columns due to more than 50% missing values:\")\n",
    "print(cols_to_drop)\n",
    "\n",
    "print(\"\\nRemaining columns in the cleaned DataFrame:\")\n",
    "print(aviation_df.columns.tolist())"
   ]
  },
  {
   "cell_type": "markdown",
   "id": "750d48f1",
   "metadata": {},
   "source": [
    "### Save DataFrame to csv\n",
    "- its generally useful to save data to file/server after its in a sufficiently cleaned or intermediate state\n",
    "- the data can then be loaded directly in another notebook for further analysis\n",
    "- this helps keep your notebooks and workflow readable, clean and modularized"
   ]
  },
  {
   "cell_type": "code",
   "execution_count": 139,
   "id": "b425a512",
   "metadata": {},
   "outputs": [],
   "source": [
    "aviation_df.to_csv(\"data/cleaned_aviation_data.csv\", index=False)"
   ]
  }
 ],
 "metadata": {
  "kernelspec": {
   "display_name": "Python (learn-env)",
   "language": "python",
   "name": "learn-env"
  },
  "language_info": {
   "codemirror_mode": {
    "name": "ipython",
    "version": 3
   },
   "file_extension": ".py",
   "mimetype": "text/x-python",
   "name": "python",
   "nbconvert_exporter": "python",
   "pygments_lexer": "ipython3",
   "version": "3.12.4"
  }
 },
 "nbformat": 4,
 "nbformat_minor": 5
}
